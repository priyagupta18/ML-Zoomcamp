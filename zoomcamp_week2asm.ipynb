{
 "cells": [
  {
   "cell_type": "code",
   "execution_count": 99,
   "id": "7a868696-65c5-4556-8db5-b1252d31d3da",
   "metadata": {},
   "outputs": [],
   "source": [
    "import pandas as pd\n",
    "import numpy as np\n",
    "import matplotlib.pyplot as plt\n",
    "import seaborn as sns"
   ]
  },
  {
   "cell_type": "code",
   "execution_count": 100,
   "id": "b58d93f4-0938-49d2-86c4-235735582552",
   "metadata": {},
   "outputs": [
    {
     "data": {
      "text/html": [
       "<div>\n",
       "<style scoped>\n",
       "    .dataframe tbody tr th:only-of-type {\n",
       "        vertical-align: middle;\n",
       "    }\n",
       "\n",
       "    .dataframe tbody tr th {\n",
       "        vertical-align: top;\n",
       "    }\n",
       "\n",
       "    .dataframe thead th {\n",
       "        text-align: right;\n",
       "    }\n",
       "</style>\n",
       "<table border=\"1\" class=\"dataframe\">\n",
       "  <thead>\n",
       "    <tr style=\"text-align: right;\">\n",
       "      <th></th>\n",
       "      <th>longitude</th>\n",
       "      <th>latitude</th>\n",
       "      <th>housing_median_age</th>\n",
       "      <th>total_rooms</th>\n",
       "      <th>total_bedrooms</th>\n",
       "      <th>population</th>\n",
       "      <th>households</th>\n",
       "      <th>median_income</th>\n",
       "      <th>median_house_value</th>\n",
       "      <th>ocean_proximity</th>\n",
       "    </tr>\n",
       "  </thead>\n",
       "  <tbody>\n",
       "    <tr>\n",
       "      <th>0</th>\n",
       "      <td>-122.23</td>\n",
       "      <td>37.88</td>\n",
       "      <td>41.0</td>\n",
       "      <td>880.0</td>\n",
       "      <td>129.0</td>\n",
       "      <td>322.0</td>\n",
       "      <td>126.0</td>\n",
       "      <td>8.3252</td>\n",
       "      <td>452600.0</td>\n",
       "      <td>NEAR BAY</td>\n",
       "    </tr>\n",
       "    <tr>\n",
       "      <th>1</th>\n",
       "      <td>-122.22</td>\n",
       "      <td>37.86</td>\n",
       "      <td>21.0</td>\n",
       "      <td>7099.0</td>\n",
       "      <td>1106.0</td>\n",
       "      <td>2401.0</td>\n",
       "      <td>1138.0</td>\n",
       "      <td>8.3014</td>\n",
       "      <td>358500.0</td>\n",
       "      <td>NEAR BAY</td>\n",
       "    </tr>\n",
       "    <tr>\n",
       "      <th>2</th>\n",
       "      <td>-122.24</td>\n",
       "      <td>37.85</td>\n",
       "      <td>52.0</td>\n",
       "      <td>1467.0</td>\n",
       "      <td>190.0</td>\n",
       "      <td>496.0</td>\n",
       "      <td>177.0</td>\n",
       "      <td>7.2574</td>\n",
       "      <td>352100.0</td>\n",
       "      <td>NEAR BAY</td>\n",
       "    </tr>\n",
       "    <tr>\n",
       "      <th>3</th>\n",
       "      <td>-122.25</td>\n",
       "      <td>37.85</td>\n",
       "      <td>52.0</td>\n",
       "      <td>1274.0</td>\n",
       "      <td>235.0</td>\n",
       "      <td>558.0</td>\n",
       "      <td>219.0</td>\n",
       "      <td>5.6431</td>\n",
       "      <td>341300.0</td>\n",
       "      <td>NEAR BAY</td>\n",
       "    </tr>\n",
       "    <tr>\n",
       "      <th>4</th>\n",
       "      <td>-122.25</td>\n",
       "      <td>37.85</td>\n",
       "      <td>52.0</td>\n",
       "      <td>1627.0</td>\n",
       "      <td>280.0</td>\n",
       "      <td>565.0</td>\n",
       "      <td>259.0</td>\n",
       "      <td>3.8462</td>\n",
       "      <td>342200.0</td>\n",
       "      <td>NEAR BAY</td>\n",
       "    </tr>\n",
       "  </tbody>\n",
       "</table>\n",
       "</div>"
      ],
      "text/plain": [
       "   longitude  latitude  housing_median_age  total_rooms  total_bedrooms  \\\n",
       "0    -122.23     37.88                41.0        880.0           129.0   \n",
       "1    -122.22     37.86                21.0       7099.0          1106.0   \n",
       "2    -122.24     37.85                52.0       1467.0           190.0   \n",
       "3    -122.25     37.85                52.0       1274.0           235.0   \n",
       "4    -122.25     37.85                52.0       1627.0           280.0   \n",
       "\n",
       "   population  households  median_income  median_house_value ocean_proximity  \n",
       "0       322.0       126.0         8.3252            452600.0        NEAR BAY  \n",
       "1      2401.0      1138.0         8.3014            358500.0        NEAR BAY  \n",
       "2       496.0       177.0         7.2574            352100.0        NEAR BAY  \n",
       "3       558.0       219.0         5.6431            341300.0        NEAR BAY  \n",
       "4       565.0       259.0         3.8462            342200.0        NEAR BAY  "
      ]
     },
     "execution_count": 100,
     "metadata": {},
     "output_type": "execute_result"
    }
   ],
   "source": [
    "df = pd.read_csv('datasets/housing.csv')\n",
    "df.head()"
   ]
  },
  {
   "cell_type": "code",
   "execution_count": 101,
   "id": "e7831d2a-ade1-4a57-8e1d-6077868a9287",
   "metadata": {},
   "outputs": [
    {
     "name": "stdout",
     "output_type": "stream",
     "text": [
      "<class 'pandas.core.frame.DataFrame'>\n",
      "RangeIndex: 20640 entries, 0 to 20639\n",
      "Data columns (total 10 columns):\n",
      " #   Column              Non-Null Count  Dtype  \n",
      "---  ------              --------------  -----  \n",
      " 0   longitude           20640 non-null  float64\n",
      " 1   latitude            20640 non-null  float64\n",
      " 2   housing_median_age  20640 non-null  float64\n",
      " 3   total_rooms         20640 non-null  float64\n",
      " 4   total_bedrooms      20433 non-null  float64\n",
      " 5   population          20640 non-null  float64\n",
      " 6   households          20640 non-null  float64\n",
      " 7   median_income       20640 non-null  float64\n",
      " 8   median_house_value  20640 non-null  float64\n",
      " 9   ocean_proximity     20640 non-null  object \n",
      "dtypes: float64(9), object(1)\n",
      "memory usage: 1.6+ MB\n"
     ]
    }
   ],
   "source": [
    "df.info()"
   ]
  },
  {
   "cell_type": "markdown",
   "id": "4697faf0-8751-496d-aeab-d4a8564816a2",
   "metadata": {},
   "source": [
    "# EDA"
   ]
  },
  {
   "cell_type": "code",
   "execution_count": 102,
   "id": "db8b4bbc-9be7-4953-9625-2a83199eb80d",
   "metadata": {},
   "outputs": [
    {
     "name": "stderr",
     "output_type": "stream",
     "text": [
      "/home/priya/Personal/zoomcamp/zoomcamp_env/lib/python3.10/site-packages/seaborn/_oldcore.py:1498: FutureWarning: is_categorical_dtype is deprecated and will be removed in a future version. Use isinstance(dtype, CategoricalDtype) instead\n",
      "  if pd.api.types.is_categorical_dtype(vector):\n",
      "/home/priya/Personal/zoomcamp/zoomcamp_env/lib/python3.10/site-packages/seaborn/_oldcore.py:1119: FutureWarning: use_inf_as_na option is deprecated and will be removed in a future version. Convert inf values to NaN before operating instead.\n",
      "  with pd.option_context('mode.use_inf_as_na', True):\n"
     ]
    },
    {
     "data": {
      "text/plain": [
       "<Axes: xlabel='median_house_value', ylabel='Density'>"
      ]
     },
     "execution_count": 102,
     "metadata": {},
     "output_type": "execute_result"
    },
    {
     "data": {
      "image/png": "[encoded data removed]",
      "text/plain": [
       "<Figure size 640x480 with 1 Axes>"
      ]
     },
     "metadata": {},
     "output_type": "display_data"
    }
   ],
   "source": [
    "sns.kdeplot(df['median_house_value'])"
   ]
  },
  {
   "cell_type": "code",
   "execution_count": 103,
   "id": "adbfec97-f917-4820-8e02-089cdc193751",
   "metadata": {},
   "outputs": [
    {
     "data": {
      "text/plain": [
       "0.9777632739098341"
      ]
     },
     "execution_count": 103,
     "metadata": {},
     "output_type": "execute_result"
    }
   ],
   "source": [
    "df['median_house_value'].skew()"
   ]
  },
  {
   "cell_type": "markdown",
   "id": "c1c0181d-fcb5-4b7a-a1fd-bfdf1f1e1fb8",
   "metadata": {},
   "source": [
    "We can confirm that median_house_price is right skewed."
   ]
  },
  {
   "cell_type": "markdown",
   "id": "9cf3d9d9-b3f1-4ed6-b8bd-afe38f5c8c95",
   "metadata": {},
   "source": [
    "# Preparing the Dataset"
   ]
  },
  {
   "cell_type": "code",
   "execution_count": 104,
   "id": "48eefcbd-d455-479f-be58-f55ae4b747d2",
   "metadata": {},
   "outputs": [],
   "source": [
    "columns = ['latitude','longitude','housing_median_age','total_rooms','total_bedrooms','population','households','median_income','median_house_value']\n",
    "subset_df = df[df['ocean_proximity'].isin(['<1H OCEAN','INLAND'])][columns].reset_index(drop = True)"
   ]
  },
  {
   "cell_type": "code",
   "execution_count": 105,
   "id": "06e96086-0df2-488e-87f4-621b8af7a93b",
   "metadata": {},
   "outputs": [
    {
     "data": {
      "text/html": [
       "<div>\n",
       "<style scoped>\n",
       "    .dataframe tbody tr th:only-of-type {\n",
       "        vertical-align: middle;\n",
       "    }\n",
       "\n",
       "    .dataframe tbody tr th {\n",
       "        vertical-align: top;\n",
       "    }\n",
       "\n",
       "    .dataframe thead th {\n",
       "        text-align: right;\n",
       "    }\n",
       "</style>\n",
       "<table border=\"1\" class=\"dataframe\">\n",
       "  <thead>\n",
       "    <tr style=\"text-align: right;\">\n",
       "      <th></th>\n",
       "      <th>latitude</th>\n",
       "      <th>longitude</th>\n",
       "      <th>housing_median_age</th>\n",
       "      <th>total_rooms</th>\n",
       "      <th>total_bedrooms</th>\n",
       "      <th>population</th>\n",
       "      <th>households</th>\n",
       "      <th>median_income</th>\n",
       "      <th>median_house_value</th>\n",
       "    </tr>\n",
       "  </thead>\n",
       "  <tbody>\n",
       "    <tr>\n",
       "      <th>0</th>\n",
       "      <td>37.64</td>\n",
       "      <td>-121.97</td>\n",
       "      <td>32.0</td>\n",
       "      <td>1283.0</td>\n",
       "      <td>194.0</td>\n",
       "      <td>485.0</td>\n",
       "      <td>171.0</td>\n",
       "      <td>6.0574</td>\n",
       "      <td>431000.0</td>\n",
       "    </tr>\n",
       "    <tr>\n",
       "      <th>1</th>\n",
       "      <td>37.61</td>\n",
       "      <td>-121.99</td>\n",
       "      <td>9.0</td>\n",
       "      <td>3666.0</td>\n",
       "      <td>711.0</td>\n",
       "      <td>2341.0</td>\n",
       "      <td>703.0</td>\n",
       "      <td>4.6458</td>\n",
       "      <td>217000.0</td>\n",
       "    </tr>\n",
       "    <tr>\n",
       "      <th>2</th>\n",
       "      <td>37.57</td>\n",
       "      <td>-121.97</td>\n",
       "      <td>21.0</td>\n",
       "      <td>4342.0</td>\n",
       "      <td>783.0</td>\n",
       "      <td>2172.0</td>\n",
       "      <td>789.0</td>\n",
       "      <td>4.6146</td>\n",
       "      <td>247600.0</td>\n",
       "    </tr>\n",
       "    <tr>\n",
       "      <th>3</th>\n",
       "      <td>37.58</td>\n",
       "      <td>-121.96</td>\n",
       "      <td>15.0</td>\n",
       "      <td>3575.0</td>\n",
       "      <td>597.0</td>\n",
       "      <td>1777.0</td>\n",
       "      <td>559.0</td>\n",
       "      <td>5.7192</td>\n",
       "      <td>283500.0</td>\n",
       "    </tr>\n",
       "    <tr>\n",
       "      <th>4</th>\n",
       "      <td>37.58</td>\n",
       "      <td>-121.98</td>\n",
       "      <td>20.0</td>\n",
       "      <td>4126.0</td>\n",
       "      <td>1031.0</td>\n",
       "      <td>2079.0</td>\n",
       "      <td>975.0</td>\n",
       "      <td>3.6832</td>\n",
       "      <td>216900.0</td>\n",
       "    </tr>\n",
       "  </tbody>\n",
       "</table>\n",
       "</div>"
      ],
      "text/plain": [
       "   latitude  longitude  housing_median_age  total_rooms  total_bedrooms  \\\n",
       "0     37.64    -121.97                32.0       1283.0           194.0   \n",
       "1     37.61    -121.99                 9.0       3666.0           711.0   \n",
       "2     37.57    -121.97                21.0       4342.0           783.0   \n",
       "3     37.58    -121.96                15.0       3575.0           597.0   \n",
       "4     37.58    -121.98                20.0       4126.0          1031.0   \n",
       "\n",
       "   population  households  median_income  median_house_value  \n",
       "0       485.0       171.0         6.0574            431000.0  \n",
       "1      2341.0       703.0         4.6458            217000.0  \n",
       "2      2172.0       789.0         4.6146            247600.0  \n",
       "3      1777.0       559.0         5.7192            283500.0  \n",
       "4      2079.0       975.0         3.6832            216900.0  "
      ]
     },
     "execution_count": 105,
     "metadata": {},
     "output_type": "execute_result"
    }
   ],
   "source": [
    "subset_df.head()"
   ]
  },
  {
   "cell_type": "markdown",
   "id": "ec93dffc-45df-494a-9d9b-7a7e931ed67f",
   "metadata": {},
   "source": [
    "**Question 1 : There's one feature with missing values. What is it?**"
   ]
  },
  {
   "cell_type": "code",
   "execution_count": 106,
   "id": "0c88a8c1-e6bc-4482-8930-632a65d16f6d",
   "metadata": {},
   "outputs": [
    {
     "data": {
      "text/plain": [
       "latitude                0\n",
       "longitude               0\n",
       "housing_median_age      0\n",
       "total_rooms             0\n",
       "total_bedrooms        157\n",
       "population              0\n",
       "households              0\n",
       "median_income           0\n",
       "median_house_value      0\n",
       "dtype: int64"
      ]
     },
     "execution_count": 106,
     "metadata": {},
     "output_type": "execute_result"
    }
   ],
   "source": [
    "subset_df.isna().sum()"
   ]
  },
  {
   "cell_type": "markdown",
   "id": "984827a4-030a-456f-867a-04b8dfba3a81",
   "metadata": {},
   "source": [
    "We can conclude that total_bedrooms is the feature with missing values."
   ]
  },
  {
   "cell_type": "markdown",
   "id": "5b90b671-e0ae-4ff9-b96c-c5334de6d73d",
   "metadata": {},
   "source": [
    "**Question 2 : What's the median (50% percentile) for variable 'population'?**"
   ]
  },
  {
   "cell_type": "code",
   "execution_count": 107,
   "id": "d755b9c3-ca58-49e9-93eb-a8af196827cd",
   "metadata": {},
   "outputs": [
    {
     "data": {
      "text/plain": [
       "1195.0"
      ]
     },
     "execution_count": 107,
     "metadata": {},
     "output_type": "execute_result"
    }
   ],
   "source": [
    "subset_df['population'].median()"
   ]
  },
  {
   "cell_type": "markdown",
   "id": "130540e1-65b2-442a-9872-e706c6a9ac15",
   "metadata": {},
   "source": [
    "# Prepare and split the dataset"
   ]
  },
  {
   "cell_type": "code",
   "execution_count": 108,
   "id": "b21cf1eb-3143-4209-8330-31cd82c0c3ed",
   "metadata": {},
   "outputs": [],
   "source": [
    "n = len(subset_df)\n",
    "\n",
    "n_val = int(n * 0.2)\n",
    "n_test = int(n * 0.2)\n",
    "n_train = n - n_val - n_test"
   ]
  },
  {
   "cell_type": "code",
   "execution_count": 109,
   "id": "e22fd78b-2100-4657-bd82-c67e631e70f3",
   "metadata": {},
   "outputs": [
    {
     "data": {
      "text/plain": [
       "array([    0,     1,     2, ..., 15684, 15685, 15686])"
      ]
     },
     "execution_count": 109,
     "metadata": {},
     "output_type": "execute_result"
    }
   ],
   "source": [
    "idx = np.arange(n)\n",
    "idx"
   ]
  },
  {
   "cell_type": "code",
   "execution_count": 110,
   "id": "a979b954-17f4-49c4-871c-af1a93148039",
   "metadata": {},
   "outputs": [],
   "source": [
    "np.random.seed(42)\n",
    "np.random.shuffle(idx)"
   ]
  },
  {
   "cell_type": "code",
   "execution_count": 111,
   "id": "dc9e5691-1ce8-40a0-855a-6fa0a8d23062",
   "metadata": {},
   "outputs": [],
   "source": [
    "df_train = subset_df.iloc[idx[:n_train]]\n",
    "df_val = subset_df.iloc[idx[n_train:n_train+n_val]]\n",
    "df_test = subset_df.iloc[idx[n_train+n_val:]]"
   ]
  },
  {
   "cell_type": "code",
   "execution_count": 112,
   "id": "e7a1913d-dbb2-403c-aad9-e808901da4a1",
   "metadata": {},
   "outputs": [
    {
     "data": {
      "text/html": [
       "<div>\n",
       "<style scoped>\n",
       "    .dataframe tbody tr th:only-of-type {\n",
       "        vertical-align: middle;\n",
       "    }\n",
       "\n",
       "    .dataframe tbody tr th {\n",
       "        vertical-align: top;\n",
       "    }\n",
       "\n",
       "    .dataframe thead th {\n",
       "        text-align: right;\n",
       "    }\n",
       "</style>\n",
       "<table border=\"1\" class=\"dataframe\">\n",
       "  <thead>\n",
       "    <tr style=\"text-align: right;\">\n",
       "      <th></th>\n",
       "      <th>latitude</th>\n",
       "      <th>longitude</th>\n",
       "      <th>housing_median_age</th>\n",
       "      <th>total_rooms</th>\n",
       "      <th>total_bedrooms</th>\n",
       "      <th>population</th>\n",
       "      <th>households</th>\n",
       "      <th>median_income</th>\n",
       "      <th>median_house_value</th>\n",
       "    </tr>\n",
       "  </thead>\n",
       "  <tbody>\n",
       "    <tr>\n",
       "      <th>15183</th>\n",
       "      <td>36.23</td>\n",
       "      <td>-119.14</td>\n",
       "      <td>22.0</td>\n",
       "      <td>2935.0</td>\n",
       "      <td>523.0</td>\n",
       "      <td>1927.0</td>\n",
       "      <td>530.0</td>\n",
       "      <td>2.5875</td>\n",
       "      <td>70400.0</td>\n",
       "    </tr>\n",
       "    <tr>\n",
       "      <th>4469</th>\n",
       "      <td>34.12</td>\n",
       "      <td>-117.79</td>\n",
       "      <td>16.0</td>\n",
       "      <td>2426.0</td>\n",
       "      <td>426.0</td>\n",
       "      <td>1319.0</td>\n",
       "      <td>446.0</td>\n",
       "      <td>4.8125</td>\n",
       "      <td>224500.0</td>\n",
       "    </tr>\n",
       "    <tr>\n",
       "      <th>9316</th>\n",
       "      <td>33.68</td>\n",
       "      <td>-117.97</td>\n",
       "      <td>26.0</td>\n",
       "      <td>3653.0</td>\n",
       "      <td>568.0</td>\n",
       "      <td>1930.0</td>\n",
       "      <td>585.0</td>\n",
       "      <td>5.7301</td>\n",
       "      <td>260900.0</td>\n",
       "    </tr>\n",
       "    <tr>\n",
       "      <th>4983</th>\n",
       "      <td>34.10</td>\n",
       "      <td>-118.03</td>\n",
       "      <td>32.0</td>\n",
       "      <td>2668.0</td>\n",
       "      <td>609.0</td>\n",
       "      <td>1512.0</td>\n",
       "      <td>541.0</td>\n",
       "      <td>2.9422</td>\n",
       "      <td>233100.0</td>\n",
       "    </tr>\n",
       "    <tr>\n",
       "      <th>13154</th>\n",
       "      <td>37.34</td>\n",
       "      <td>-121.87</td>\n",
       "      <td>39.0</td>\n",
       "      <td>2479.0</td>\n",
       "      <td>541.0</td>\n",
       "      <td>1990.0</td>\n",
       "      <td>506.0</td>\n",
       "      <td>2.4306</td>\n",
       "      <td>289100.0</td>\n",
       "    </tr>\n",
       "  </tbody>\n",
       "</table>\n",
       "</div>"
      ],
      "text/plain": [
       "       latitude  longitude  housing_median_age  total_rooms  total_bedrooms  \\\n",
       "15183     36.23    -119.14                22.0       2935.0           523.0   \n",
       "4469      34.12    -117.79                16.0       2426.0           426.0   \n",
       "9316      33.68    -117.97                26.0       3653.0           568.0   \n",
       "4983      34.10    -118.03                32.0       2668.0           609.0   \n",
       "13154     37.34    -121.87                39.0       2479.0           541.0   \n",
       "\n",
       "       population  households  median_income  median_house_value  \n",
       "15183      1927.0       530.0         2.5875             70400.0  \n",
       "4469       1319.0       446.0         4.8125            224500.0  \n",
       "9316       1930.0       585.0         5.7301            260900.0  \n",
       "4983       1512.0       541.0         2.9422            233100.0  \n",
       "13154      1990.0       506.0         2.4306            289100.0  "
      ]
     },
     "execution_count": 112,
     "metadata": {},
     "output_type": "execute_result"
    }
   ],
   "source": [
    "df_train.head()"
   ]
  },
  {
   "cell_type": "code",
   "execution_count": 113,
   "id": "aa58cdba-9382-4828-be52-898cab90114f",
   "metadata": {},
   "outputs": [],
   "source": [
    "df_train = df_train.reset_index(drop=True)\n",
    "df_val = df_val.reset_index(drop=True)\n",
    "df_test = df_test.reset_index(drop=True)"
   ]
  },
  {
   "cell_type": "code",
   "execution_count": 114,
   "id": "a97ca649-c06c-4e1b-9131-c37835c056d6",
   "metadata": {},
   "outputs": [],
   "source": [
    "y_train = np.log1p(df_train.median_house_value.values)\n",
    "y_val = np.log1p(df_val.median_house_value.values)\n",
    "y_test = np.log1p(df_test.median_house_value.values)\n",
    "\n",
    "del df_train['median_house_value']\n",
    "del df_val['median_house_value']\n",
    "del df_test['median_house_value']"
   ]
  },
  {
   "cell_type": "code",
   "execution_count": 115,
   "id": "e9fbbc46-15f1-46d9-8610-de3ab233c901",
   "metadata": {},
   "outputs": [
    {
     "data": {
      "text/plain": [
       "array([11.16196275, 12.32163544, 12.4718963 , ..., 13.12236738,\n",
       "       12.11888489, 12.52924613])"
      ]
     },
     "execution_count": 115,
     "metadata": {},
     "output_type": "execute_result"
    }
   ],
   "source": [
    "y_train"
   ]
  },
  {
   "cell_type": "markdown",
   "id": "9fb33dda-91e8-4acb-8c8b-1c21558b1bf7",
   "metadata": {},
   "source": [
    "**Question 3**\n",
    "\n",
    "1. We need to deal with missing values for the column from Q1.\n",
    "2. We have two options: fill it with 0 or with the mean of this variable.\n",
    "3. Try both options. For each, train a linear regression model without regularization using the code from the lessons.\n",
    "4. For computing the mean, use the training only!\n",
    "5. Use the validation dataset to evaluate the models and compare the RMSE of each option.\n",
    "6. Round the RMSE scores to 2 decimal digits using round(score, 2)\n",
    "7. Which option gives better RMSE?\n"
   ]
  },
  {
   "cell_type": "code",
   "execution_count": 120,
   "id": "7da6069e-2aff-461f-81dc-810431e371d3",
   "metadata": {},
   "outputs": [],
   "source": [
    "#filling missing value with zero\n",
    "fill_with_zero_train = df_train.copy()\n",
    "fill_with_zero_val = df_val.copy()\n",
    "fill_with_zero_test = df_test.copy()\n",
    "\n",
    "fill_with_zero_train['total_bedrooms'] = fill_with_zero_train['total_bedrooms'].fillna(0)\n",
    "fill_with_zero_val['total_bedrooms'] = fill_with_zero_val['total_bedrooms'].fillna(0)\n",
    "fill_with_zero_test['total_bedrooms'] = fill_with_zero_test['total_bedrooms'].fillna(0)"
   ]
  },
  {
   "cell_type": "code",
   "execution_count": 121,
   "id": "709fa1a9-e7b5-4f34-aacb-647ca0770227",
   "metadata": {},
   "outputs": [
    {
     "name": "stdout",
     "output_type": "stream",
     "text": [
      "<class 'pandas.core.frame.DataFrame'>\n",
      "RangeIndex: 9413 entries, 0 to 9412\n",
      "Data columns (total 8 columns):\n",
      " #   Column              Non-Null Count  Dtype  \n",
      "---  ------              --------------  -----  \n",
      " 0   latitude            9413 non-null   float64\n",
      " 1   longitude           9413 non-null   float64\n",
      " 2   housing_median_age  9413 non-null   float64\n",
      " 3   total_rooms         9413 non-null   float64\n",
      " 4   total_bedrooms      9413 non-null   float64\n",
      " 5   population          9413 non-null   float64\n",
      " 6   households          9413 non-null   float64\n",
      " 7   median_income       9413 non-null   float64\n",
      "dtypes: float64(8)\n",
      "memory usage: 588.4 KB\n"
     ]
    }
   ],
   "source": [
    "fill_with_zero_train.info()"
   ]
  },
  {
   "cell_type": "code",
   "execution_count": 137,
   "id": "f0d97b24-11bd-46ab-ab50-f6818bee8bb3",
   "metadata": {},
   "outputs": [],
   "source": [
    "def train_linear_regression(X, y):\n",
    "    ones = np.ones(X.shape[0])\n",
    "    X = np.column_stack([ones, X])\n",
    "\n",
    "    XTX = X.T.dot(X)\n",
    "    XTX_inv = np.linalg.inv(XTX)\n",
    "    w_full = XTX_inv.dot(X.T).dot(y)\n",
    "    \n",
    "    return w_full[0], w_full[1:]\n",
    "\n",
    "\n",
    "\n",
    "def rmse(y, y_pred):\n",
    "    se = (y - y_pred) ** 2\n",
    "    mse = se.mean()\n",
    "    return np.sqrt(mse)"
   ]
  },
  {
   "cell_type": "code",
   "execution_count": 134,
   "id": "11264120-5b9f-4f16-99e4-a74dcf4fdce2",
   "metadata": {},
   "outputs": [],
   "source": [
    "#training the model\n",
    "w0,w = train_linear_regression(fill_with_zero_train.values,y_train)"
   ]
  },
  {
   "cell_type": "code",
   "execution_count": 135,
   "id": "f33bf114-231d-4446-8c5d-3cc09b68d631",
   "metadata": {},
   "outputs": [
    {
     "name": "stdout",
     "output_type": "stream",
     "text": [
      "(3137, 8)\n",
      "(8,)\n"
     ]
    }
   ],
   "source": [
    "print(fill_with_zero_val.shape)\n",
    "print(w.shape)"
   ]
  },
  {
   "cell_type": "code",
   "execution_count": 142,
   "id": "30b9659d-682e-4709-b4fb-ae2e059ae9ff",
   "metadata": {},
   "outputs": [
    {
     "name": "stdout",
     "output_type": "stream",
     "text": [
      "RMSE score with imputing by zero is -  0.34\n"
     ]
    }
   ],
   "source": [
    "y_pred = w0 + fill_with_zero_val.dot(w)\n",
    "score = rmse(y_val, y_pred)\n",
    "print(\"RMSE score with imputing by zero is - \",round(score,2))"
   ]
  },
  {
   "cell_type": "code",
   "execution_count": 143,
   "id": "5b240a75-d515-40ae-8a71-16e82a9162d5",
   "metadata": {},
   "outputs": [],
   "source": [
    "#filling missing value with mean\n",
    "fill_with_mean_train = df_train.copy()\n",
    "fill_with_mean_val = df_val.copy()\n",
    "fill_with_mean_test = df_test.copy()\n",
    "\n",
    "mean_val = fill_with_mean_train['total_bedrooms'].mean()\n",
    "\n",
    "fill_with_mean_train['total_bedrooms'] = fill_with_mean_train['total_bedrooms'].fillna(mean_val)\n",
    "fill_with_mean_val['total_bedrooms'] = fill_with_mean_val['total_bedrooms'].fillna(mean_val)\n",
    "fill_with_mean_test['total_bedrooms'] = fill_with_mean_test['total_bedrooms'].fillna(mean_val)"
   ]
  },
  {
   "cell_type": "code",
   "execution_count": 144,
   "id": "88ad4fe2-7a51-4eee-bcec-3ef9b09051dc",
   "metadata": {},
   "outputs": [
    {
     "name": "stdout",
     "output_type": "stream",
     "text": [
      "<class 'pandas.core.frame.DataFrame'>\n",
      "RangeIndex: 9413 entries, 0 to 9412\n",
      "Data columns (total 8 columns):\n",
      " #   Column              Non-Null Count  Dtype  \n",
      "---  ------              --------------  -----  \n",
      " 0   latitude            9413 non-null   float64\n",
      " 1   longitude           9413 non-null   float64\n",
      " 2   housing_median_age  9413 non-null   float64\n",
      " 3   total_rooms         9413 non-null   float64\n",
      " 4   total_bedrooms      9413 non-null   float64\n",
      " 5   population          9413 non-null   float64\n",
      " 6   households          9413 non-null   float64\n",
      " 7   median_income       9413 non-null   float64\n",
      "dtypes: float64(8)\n",
      "memory usage: 588.4 KB\n"
     ]
    }
   ],
   "source": [
    "fill_with_mean_train.info()"
   ]
  },
  {
   "cell_type": "code",
   "execution_count": 145,
   "id": "b8ea6b6b-724d-4be8-b08c-5ca5781058af",
   "metadata": {},
   "outputs": [],
   "source": [
    "#training the model\n",
    "w0,w = train_linear_regression(fill_with_mean_train.values,y_train)"
   ]
  },
  {
   "cell_type": "code",
   "execution_count": 146,
   "id": "fe79bba6-70b4-4266-b964-2fc5f4adaae3",
   "metadata": {},
   "outputs": [
    {
     "name": "stdout",
     "output_type": "stream",
     "text": [
      "(3137, 8)\n",
      "(8,)\n"
     ]
    }
   ],
   "source": [
    "print(fill_with_mean_val.shape)\n",
    "print(w.shape)"
   ]
  },
  {
   "cell_type": "code",
   "execution_count": 148,
   "id": "b9bd09d6-0207-4ec8-bd94-347916dc8471",
   "metadata": {},
   "outputs": [
    {
     "name": "stdout",
     "output_type": "stream",
     "text": [
      "RMSE score with imputing by mean is -  0.34\n"
     ]
    }
   ],
   "source": [
    "y_pred = w0 + fill_with_mean_val.dot(w)\n",
    "score = rmse(y_val, y_pred)\n",
    "print(\"RMSE score with imputing by mean is - \",round(score,2))"
   ]
  },
  {
   "cell_type": "markdown",
   "id": "b76b7580-b5e1-47b2-968a-8f7964b4771e",
   "metadata": {},
   "source": [
    "Both imputation gives equally good results"
   ]
  },
  {
   "cell_type": "markdown",
   "id": "f7c87bcb-5932-4d21-a435-db77c780c42c",
   "metadata": {},
   "source": [
    "**Question 4**\n",
    "\n",
    "1.    Now let's train a regularized linear regression.\n",
    "2.    For this question, fill the NAs with 0.\n",
    "3.    Try different values of r from this list: [0, 0.000001, 0.0001, 0.001, 0.01, 0.1, 1, 5, 10].\n",
    "4.    Use RMSE to evaluate the model on the validation dataset.\n",
    "5.    Round the RMSE scores to 2 decimal digits.\n",
    "6.    Which r gives the best RMSE?\n"
   ]
  },
  {
   "cell_type": "code",
   "execution_count": 149,
   "id": "22f71153-8357-4694-83a0-36345a967ea9",
   "metadata": {},
   "outputs": [],
   "source": [
    "#filling missing value with zero\n",
    "fill_with_zero_train = df_train.copy()\n",
    "fill_with_zero_val = df_val.copy()\n",
    "fill_with_zero_test = df_test.copy()\n",
    "\n",
    "fill_with_zero_train['total_bedrooms'] = fill_with_zero_train['total_bedrooms'].fillna(0)\n",
    "fill_with_zero_val['total_bedrooms'] = fill_with_zero_val['total_bedrooms'].fillna(0)\n",
    "fill_with_zero_test['total_bedrooms'] = fill_with_zero_test['total_bedrooms'].fillna(0)"
   ]
  },
  {
   "cell_type": "code",
   "execution_count": 150,
   "id": "95723fd8-ac4c-4c73-a7ec-686bff52e157",
   "metadata": {},
   "outputs": [],
   "source": [
    "def train_linear_regression_reg(X, y, r=0.001):\n",
    "    ones = np.ones(X.shape[0])\n",
    "    X = np.column_stack([ones, X])\n",
    "\n",
    "    XTX = X.T.dot(X)\n",
    "    XTX = XTX + r * np.eye(XTX.shape[0])\n",
    "\n",
    "    XTX_inv = np.linalg.inv(XTX)\n",
    "    w_full = XTX_inv.dot(X.T).dot(y)\n",
    "    \n",
    "    return w_full[0], w_full[1:]"
   ]
  },
  {
   "cell_type": "code",
   "execution_count": 164,
   "id": "f52eb532-3617-402b-803a-cd188e3fb387",
   "metadata": {},
   "outputs": [
    {
     "name": "stdout",
     "output_type": "stream",
     "text": [
      "0 -9.763249477549328 0.34\n",
      "1e-06 -9.763228830691759 0.34\n",
      "0.0001 -9.761185235424271 0.34\n",
      "0.001 -9.742646249645812 0.34\n",
      "0.01 -9.561056192433915 0.34\n",
      "0.1 -8.058889769406882 0.34\n",
      "1 -3.133154278513541 0.34\n",
      "5 -0.8410867975396633 0.35\n",
      "10 -0.438117231642521 0.35\n"
     ]
    }
   ],
   "source": [
    "r = [0, 0.000001, 0.0001, 0.001, 0.01, 0.1, 1, 5, 10]\n",
    "\n",
    "for val in r:\n",
    "    w0, w = train_linear_regression_reg(fill_with_zero_train.values, y_train, r=val)\n",
    "    y_pred = w0 + fill_with_zero_val.dot(w)\n",
    "    score = rmse(y_val, y_pred)\n",
    "    \n",
    "    print(val, w0, round(score,2))\n",
    "    "
   ]
  },
  {
   "cell_type": "markdown",
   "id": "2c48b67c-c86f-4632-bffd-98809032ec2a",
   "metadata": {},
   "source": [
    "**Question 5**\n",
    "\n",
    "1.    We used seed 42 for splitting the data. Let's find out how selecting the seed influences our score.\n",
    "2.    Try different seed values: [0, 1, 2, 3, 4, 5, 6, 7, 8, 9].\n",
    "3.    For each seed, do the train/validation/test split with 60%/20%/20% distribution.\n",
    "4.    Fill the missing values with 0 and train a model without regularization.\n",
    "5.    For each seed, evaluate the model on the validation dataset and collect the RMSE scores.\n",
    "6.    What's the standard deviation of all the scores? To compute the standard deviation, use np.std.\n",
    "7.    Round the result to 3 decimal digits (round(std, 3))\n"
   ]
  },
  {
   "cell_type": "code",
   "execution_count": 217,
   "id": "47654085-cd4b-4b9c-9c9c-c1779e4602de",
   "metadata": {},
   "outputs": [],
   "source": [
    "n = len(subset_df)\n",
    "n_val = int(n * 0.2)\n",
    "n_test = int(n * 0.2)\n",
    "n_train = n - n_val - n_test\n",
    "\n",
    "\n",
    "def data_preprocessing(seed):\n",
    "    idx = np.arange(n)\n",
    "    np.random.seed(seed)\n",
    "    np.random.shuffle(idx)\n",
    "\n",
    "    df_train = subset_df.iloc[idx[:n_train]]\n",
    "    df_val = subset_df.iloc[idx[n_train:n_train+n_val]]\n",
    "    df_test = subset_df.iloc[idx[n_train+n_val:]]\n",
    "\n",
    "    #df split    \n",
    "    df_train = df_train.reset_index(drop=True)\n",
    "    df_val = df_val.reset_index(drop=True)\n",
    "    df_test = df_test.reset_index(drop=True)\n",
    "\n",
    "    #y split\n",
    "    y_train = np.log1p(df_train.median_house_value.values)\n",
    "    y_val = np.log1p(df_val.median_house_value.values)\n",
    "    y_test = np.log1p(df_test.median_house_value.values)\n",
    "\n",
    "    #removing y from df\n",
    "    del df_train['median_house_value']\n",
    "    del df_val['median_house_value']\n",
    "    del df_test['median_house_value']\n",
    "\n",
    "    #filling missing values with zero\n",
    "    df_train['total_bedrooms'] = df_train['total_bedrooms'].fillna(0)\n",
    "    df_val['total_bedrooms'] = df_val['total_bedrooms'].fillna(0)\n",
    "    df_test['total_bedrooms'] = df_test['total_bedrooms'].fillna(0)\n",
    "\n",
    "    return df_train, df_val, df_test, y_train, y_val, y_test"
   ]
  },
  {
   "cell_type": "code",
   "execution_count": 220,
   "id": "1ed9a186-eee7-40e2-a93a-330243d3eba3",
   "metadata": {},
   "outputs": [
    {
     "name": "stdout",
     "output_type": "stream",
     "text": [
      "RMSE score with seed value = 0 is -  0.3377387160095705\n",
      "RMSE score with seed value = 1 is -  0.33779993536617325\n",
      "RMSE score with seed value = 2 is -  0.3384287006757834\n",
      "RMSE score with seed value = 3 is -  0.33200494683057735\n",
      "RMSE score with seed value = 4 is -  0.33944518625554715\n",
      "RMSE score with seed value = 5 is -  0.34338197052798275\n",
      "RMSE score with seed value = 6 is -  0.3385330211769299\n",
      "RMSE score with seed value = 7 is -  0.34687476973010883\n",
      "RMSE score with seed value = 8 is -  0.3512736865960362\n",
      "RMSE score with seed value = 9 is -  0.3341558266500485\n",
      "std deviation of RMSE scores is -  0.005\n"
     ]
    }
   ],
   "source": [
    "seed_values = [0, 1, 2, 3, 4, 5, 6, 7, 8, 9]\n",
    "score_list = []\n",
    "for seed in seed_values:\n",
    "    df_train, df_val, df_test, y_train, y_val, y_test = data_preprocessing(seed)    \n",
    "\n",
    "    #training the model\n",
    "    w0,w = train_linear_regression(df_train.values,y_train)\n",
    "\n",
    "    y_pred = w0 + df_val.dot(w)\n",
    "    score = rmse(y_val, y_pred)\n",
    "    score_list.append(score)\n",
    "    print(\"RMSE score with seed value = {seed} is - \".format(seed = seed),score)\n",
    "\n",
    "\n",
    "print(\"std deviation of RMSE scores is - \",round(np.std(score_list),3))"
   ]
  },
  {
   "cell_type": "markdown",
   "id": "fc1c1b69-5afe-4a73-bdd5-17d609a5357b",
   "metadata": {},
   "source": [
    "**Question 6**\n",
    "\n",
    "1.    Split the dataset like previously, use seed 9.\n",
    "2.    Combine train and validation datasets.\n",
    "3.    Fill the missing values with 0 and train a model with r=0.001.\n",
    "4.    What's the RMSE on the test dataset?\n"
   ]
  },
  {
   "cell_type": "code",
   "execution_count": 222,
   "id": "200b97a3-7480-446f-b560-9c90693336bd",
   "metadata": {},
   "outputs": [],
   "source": [
    "df_train, df_val, df_test, y_train, y_val, y_test = data_preprocessing(9)    \n"
   ]
  },
  {
   "cell_type": "code",
   "execution_count": 223,
   "id": "2b47eb5f-a9d2-4dae-be1f-d06e69ba22ca",
   "metadata": {},
   "outputs": [],
   "source": [
    "#concatanating X train and X val\n",
    "df_full_train = pd.concat([df_train, df_val])\n",
    "df_full_train = df_full_train.reset_index(drop=True)\n",
    "\n",
    "#concatatnating y train and y val\n",
    "y_full_train = np.concatenate([y_train, y_val])"
   ]
  },
  {
   "cell_type": "code",
   "execution_count": 226,
   "id": "9407f409-379d-4f55-a88f-6e40af9656cf",
   "metadata": {},
   "outputs": [],
   "source": [
    "w0,w = train_linear_regression_reg(df_full_train.values,y_full_train, r=0.001)"
   ]
  },
  {
   "cell_type": "code",
   "execution_count": 228,
   "id": "1349fa0d-1a73-48b6-8571-750243535164",
   "metadata": {},
   "outputs": [
    {
     "name": "stdout",
     "output_type": "stream",
     "text": [
      "RMSE score on test data is = 0.3349899336610853\n"
     ]
    }
   ],
   "source": [
    "y_pred = w0 + df_test.dot(w)\n",
    "score = rmse(y_test, y_pred)\n",
    "print(\"RMSE score on test data is = {score}\".format(score=score))"
   ]
  },
  {
   "cell_type": "code",
   "execution_count": null,
   "id": "da9c4737-02b6-4729-9602-1c32c5395d12",
   "metadata": {},
   "outputs": [],
   "source": []
  }
 ],
 "metadata": {
  "kernelspec": {
   "display_name": "zoomcamp_env",
   "language": "python",
   "name": "zoomcamp_env"
  },
  "language_info": {
   "codemirror_mode": {
    "name": "ipython",
    "version": 3
   },
   "file_extension": ".py",
   "mimetype": "text/x-python",
   "name": "python",
   "nbconvert_exporter": "python",
   "pygments_lexer": "ipython3",
   "version": "3.10.12"
  }
 },
 "nbformat": 4,
 "nbformat_minor": 5
}
